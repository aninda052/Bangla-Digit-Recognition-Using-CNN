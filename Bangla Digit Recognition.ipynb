{
 "cells": [
  {
   "cell_type": "code",
   "execution_count": 1,
   "metadata": {},
   "outputs": [],
   "source": [
    "\n",
    "import tensorflow as tf\n",
    "\n",
    "import numpy as np\n",
    "import pandas as pd\n",
    "\n",
    "import matplotlib.pyplot as plt\n",
    "import matplotlib.cm as cm\n"
   ]
  },
  {
   "cell_type": "code",
   "execution_count": 2,
   "metadata": {},
   "outputs": [],
   "source": [
    "data = pd.read_csv('./train_x.csv').as_matrix()\n",
    "labels = pd.read_csv('./train_y.csv').as_matrix()\n"
   ]
  },
  {
   "cell_type": "code",
   "execution_count": 3,
   "metadata": {},
   "outputs": [
    {
     "data": {
      "text/plain": [
       "array([[0., 0., 0., ..., 0., 0., 0.],\n",
       "       [0., 0., 0., ..., 0., 0., 0.],\n",
       "       [0., 0., 0., ..., 0., 0., 0.],\n",
       "       ...,\n",
       "       [0., 0., 0., ..., 0., 0., 0.],\n",
       "       [0., 0., 0., ..., 0., 0., 0.],\n",
       "       [0., 0., 0., ..., 0., 0., 0.]])"
      ]
     },
     "execution_count": 3,
     "metadata": {},
     "output_type": "execute_result"
    }
   ],
   "source": [
    "data"
   ]
  },
  {
   "cell_type": "code",
   "execution_count": 4,
   "metadata": {},
   "outputs": [
    {
     "name": "stdout",
     "output_type": "stream",
     "text": [
      "(193890, 784)\n"
     ]
    }
   ],
   "source": [
    "\n",
    "print(data.shape)"
   ]
  },
  {
   "cell_type": "code",
   "execution_count": 5,
   "metadata": {},
   "outputs": [
    {
     "name": "stdout",
     "output_type": "stream",
     "text": [
      "28\n"
     ]
    }
   ],
   "source": [
    "image_width = image_height = np.ceil(np.sqrt(784)).astype(np.uint8)\n",
    "print(image_width)"
   ]
  },
  {
   "cell_type": "code",
   "execution_count": 39,
   "metadata": {},
   "outputs": [
    {
     "name": "stdout",
     "output_type": "stream",
     "text": [
      "[0 0 1 0 0 0 0 0 0 0]\n"
     ]
    },
    {
     "data": {
      "image/png": "[encoded data removed]",
      "text/plain": [
       "<matplotlib.figure.Figure at 0x7fd051c5ec50>"
      ]
     },
     "metadata": {},
     "output_type": "display_data"
    }
   ],
   "source": [
    "image = data[3].reshape(image_width,image_height)\n",
    "plt.imshow(image.T,cmap=cm.binary)\n",
    "print(labels[3])"
   ]
  },
  {
   "cell_type": "code",
   "execution_count": 7,
   "metadata": {},
   "outputs": [],
   "source": [
    "VALIDATION_SIZE=10000\n",
    "validation_images = data[:VALIDATION_SIZE]\n",
    "validation_labels = labels[:VALIDATION_SIZE]\n",
    "\n",
    "train_images = data[VALIDATION_SIZE:]\n",
    "train_labels = labels[VALIDATION_SIZE:]"
   ]
  },
  {
   "cell_type": "code",
   "execution_count": null,
   "metadata": {},
   "outputs": [],
   "source": []
  },
  {
   "cell_type": "code",
   "execution_count": 8,
   "metadata": {},
   "outputs": [],
   "source": [
    "def weight_variable(shape):\n",
    "    init = tf.truncated_normal(shape, stddev=0.1)\n",
    "    return tf.Variable(init)\n",
    "\n",
    "def bias_variable(shape):\n",
    "    init = tf.constant(0.1, shape=shape)\n",
    "    return tf.Variable(init)"
   ]
  },
  {
   "cell_type": "code",
   "execution_count": 9,
   "metadata": {},
   "outputs": [],
   "source": [
    "def conv2d(x, W):\n",
    "    return tf.nn.conv2d(x, W, strides=[1, 1, 1, 1], padding='SAME')\n",
    "\n",
    "def max_pool_2x2(x):\n",
    "    return tf.nn.max_pool(x, ksize=[1, 2, 2, 1], strides=[1, 2, 2, 1], padding='SAME')"
   ]
  },
  {
   "cell_type": "code",
   "execution_count": 10,
   "metadata": {},
   "outputs": [],
   "source": [
    "con1_w=weight_variable([5,5,1,32])\n",
    "con1_b=bias_variable([32])"
   ]
  },
  {
   "cell_type": "code",
   "execution_count": 11,
   "metadata": {},
   "outputs": [],
   "source": [
    "image_size=784\n",
    "labels_count=10"
   ]
  },
  {
   "cell_type": "code",
   "execution_count": 12,
   "metadata": {},
   "outputs": [],
   "source": [
    "x = tf.placeholder('float', shape=[None, image_size])\n",
    "y_ = tf.placeholder('float', shape=[None, labels_count])"
   ]
  },
  {
   "cell_type": "code",
   "execution_count": 13,
   "metadata": {},
   "outputs": [],
   "source": [
    "image = tf.reshape(x, [-1,28,28,1])"
   ]
  },
  {
   "cell_type": "code",
   "execution_count": 14,
   "metadata": {},
   "outputs": [
    {
     "data": {
      "text/plain": [
       "TensorShape([Dimension(None), Dimension(28), Dimension(28), Dimension(1)])"
      ]
     },
     "execution_count": 14,
     "metadata": {},
     "output_type": "execute_result"
    }
   ],
   "source": [
    "image.get_shape()"
   ]
  },
  {
   "cell_type": "code",
   "execution_count": 15,
   "metadata": {},
   "outputs": [],
   "source": [
    "con1=tf.nn.relu(conv2d(image,con1_w)+con1_b)\n",
    "con1_pool=max_pool_2x2(con1)\n",
    "\n",
    "# display 32 fetures in 4 by 8 grid\n",
    "layer1 = tf.reshape(con1, (-1, image_height, image_width, 4 ,8))  \n",
    "# reorder so the channels are in the first dimension, x and y follow.\n",
    "layer1 = tf.transpose(layer1, (0, 3, 1, 4,2))\n",
    "layer1 = tf.reshape(layer1, (-1, image_height*4, image_width*8)) "
   ]
  },
  {
   "cell_type": "code",
   "execution_count": 16,
   "metadata": {},
   "outputs": [
    {
     "data": {
      "text/plain": [
       "TensorShape([Dimension(None), Dimension(14), Dimension(14), Dimension(32)])"
      ]
     },
     "execution_count": 16,
     "metadata": {},
     "output_type": "execute_result"
    }
   ],
   "source": [
    "con1_pool.get_shape()"
   ]
  },
  {
   "cell_type": "code",
   "execution_count": 17,
   "metadata": {},
   "outputs": [],
   "source": [
    "con2_w=weight_variable([5,5,32,64])\n",
    "con2_b=bias_variable([64])"
   ]
  },
  {
   "cell_type": "code",
   "execution_count": 18,
   "metadata": {},
   "outputs": [],
   "source": [
    "con2=tf.nn.relu(conv2d(con1_pool,con2_w)+con2_b)\n",
    "con2_pool=max_pool_2x2(con2)\n",
    "\n",
    "layer2 = tf.reshape(con2, (-1, 14, 14, 4 ,16))  \n",
    "layer2 = tf.transpose(layer2, (0, 3, 1, 4,2))\n",
    "layer2 = tf.reshape(layer2, (-1, 14*4, 14*16)) "
   ]
  },
  {
   "cell_type": "code",
   "execution_count": 19,
   "metadata": {},
   "outputs": [
    {
     "data": {
      "text/plain": [
       "TensorShape([Dimension(None), Dimension(7), Dimension(7), Dimension(64)])"
      ]
     },
     "execution_count": 19,
     "metadata": {},
     "output_type": "execute_result"
    }
   ],
   "source": [
    "con2_pool.get_shape()"
   ]
  },
  {
   "cell_type": "code",
   "execution_count": 20,
   "metadata": {},
   "outputs": [],
   "source": [
    "dens_w = weight_variable([7 * 7 * 64, 1024])\n",
    "dens_b= bias_variable([1024])"
   ]
  },
  {
   "cell_type": "code",
   "execution_count": 21,
   "metadata": {},
   "outputs": [],
   "source": [
    "con2_flat= tf.reshape(con2_pool, [-1, 7*7*64])\n",
    "\n",
    "dens = tf.nn.relu(tf.matmul(con2_flat,dens_w) + dens_b)"
   ]
  },
  {
   "cell_type": "code",
   "execution_count": 22,
   "metadata": {},
   "outputs": [
    {
     "data": {
      "text/plain": [
       "TensorShape([Dimension(None), Dimension(3136)])"
      ]
     },
     "execution_count": 22,
     "metadata": {},
     "output_type": "execute_result"
    }
   ],
   "source": [
    "con2_flat.get_shape()"
   ]
  },
  {
   "cell_type": "code",
   "execution_count": 23,
   "metadata": {},
   "outputs": [],
   "source": [
    "keep_prob=tf.placeholder('float')\n",
    "drop_out=tf.nn.dropout(dens,keep_prob)"
   ]
  },
  {
   "cell_type": "code",
   "execution_count": 24,
   "metadata": {},
   "outputs": [
    {
     "data": {
      "text/plain": [
       "TensorShape([Dimension(None), Dimension(1024)])"
      ]
     },
     "execution_count": 24,
     "metadata": {},
     "output_type": "execute_result"
    }
   ],
   "source": [
    "drop_out.get_shape()"
   ]
  },
  {
   "cell_type": "code",
   "execution_count": 25,
   "metadata": {},
   "outputs": [],
   "source": [
    "softmax_w=weight_variable([1024,labels_count])\n",
    "softmax_b=bias_variable([labels_count])"
   ]
  },
  {
   "cell_type": "code",
   "execution_count": 26,
   "metadata": {},
   "outputs": [],
   "source": [
    "y=tf.nn.softmax(tf.matmul(drop_out,softmax_w)+softmax_b)"
   ]
  },
  {
   "cell_type": "code",
   "execution_count": 27,
   "metadata": {},
   "outputs": [],
   "source": [
    "LEARNING_RATE=1e-4\n",
    "# cost function\n",
    "cross_entropy = -tf.reduce_sum(y_*tf.log(y))\n",
    "# optimisation function\n",
    "train_step = tf.train.AdamOptimizer(LEARNING_RATE).minimize(cross_entropy)\n",
    "# evaluation\n",
    "correct_prediction = tf.equal(tf.argmax(y,1), tf.argmax(y_,1))\n",
    "accuracy = tf.reduce_mean(tf.cast(correct_prediction, 'float'))\n",
    "predict = tf.argmax(y,1)"
   ]
  },
  {
   "cell_type": "code",
   "execution_count": 29,
   "metadata": {},
   "outputs": [],
   "source": [
    "idx = 0\n",
    "num_examples = train_images.shape[0]\n",
    "\n",
    "def next_batch(batch_size):\n",
    "    \n",
    "    global train_images\n",
    "    global train_labels\n",
    "    global idx\n",
    "\n",
    "    start=idx\n",
    "    idx+= batch_size  \n",
    "    \n",
    "    if idx>num_examples:\n",
    "\n",
    "        new_idx=np.arange(num_examples)\n",
    "        np.random.shuffle(new_idx)\n",
    "        train_images =  train_images[new_idx]\n",
    "        train_labels =  train_labels[new_idx]\n",
    "\n",
    "        start = 0\n",
    "        idx= batch_size\n",
    "        #assert batch_size <= num_examples\n",
    "    end=idx\n",
    "    return train_images[start:end], train_labels[start:end]"
   ]
  },
  {
   "cell_type": "code",
   "execution_count": 30,
   "metadata": {},
   "outputs": [
    {
     "data": {
      "text/plain": [
       "183890"
      ]
     },
     "execution_count": 30,
     "metadata": {},
     "output_type": "execute_result"
    }
   ],
   "source": [
    "train_images.shape[0]"
   ]
  },
  {
   "cell_type": "code",
   "execution_count": 44,
   "metadata": {},
   "outputs": [],
   "source": [
    "init= tf.global_variables_initializer()\n",
    "sess=tf.InteractiveSession()\n",
    "sess.run(init)"
   ]
  },
  {
   "cell_type": "code",
   "execution_count": 45,
   "metadata": {},
   "outputs": [
    {
     "name": "stdout",
     "output_type": "stream",
     "text": [
      "training_accuracy / validation_accuracy => 0.10 / 0.09 for step 0\n",
      "training_accuracy / validation_accuracy => 0.83 / 0.79 for step 100\n",
      "training_accuracy / validation_accuracy => 0.85 / 0.83 for step 200\n",
      "training_accuracy / validation_accuracy => 0.91 / 0.81 for step 300\n",
      "training_accuracy / validation_accuracy => 0.89 / 0.87 for step 400\n",
      "training_accuracy / validation_accuracy => 0.89 / 0.94 for step 500\n",
      "training_accuracy / validation_accuracy => 0.91 / 0.87 for step 600\n",
      "training_accuracy / validation_accuracy => 0.91 / 0.90 for step 700\n",
      "training_accuracy / validation_accuracy => 0.95 / 0.92 for step 800\n",
      "training_accuracy / validation_accuracy => 0.95 / 0.97 for step 900\n",
      "training_accuracy / validation_accuracy => 0.95 / 0.97 for step 1000\n",
      "training_accuracy / validation_accuracy => 0.96 / 0.95 for step 1100\n",
      "training_accuracy / validation_accuracy => 0.95 / 0.93 for step 1200\n",
      "training_accuracy / validation_accuracy => 0.95 / 0.95 for step 1300\n",
      "training_accuracy / validation_accuracy => 0.96 / 0.96 for step 1400\n",
      "training_accuracy / validation_accuracy => 0.97 / 0.95 for step 1500\n",
      "training_accuracy / validation_accuracy => 0.95 / 0.98 for step 1600\n",
      "training_accuracy / validation_accuracy => 0.94 / 0.95 for step 1700\n",
      "training_accuracy / validation_accuracy => 0.95 / 0.98 for step 1800\n",
      "training_accuracy / validation_accuracy => 0.96 / 0.99 for step 1900\n"
     ]
    }
   ],
   "source": [
    "train_accuracies = []\n",
    "validation_accuracies = []\n",
    "\n",
    "TRAINING_ITERATIONS=1901\n",
    "BATCH_SIZE = 150\n",
    "\n",
    "for i in range(TRAINING_ITERATIONS):\n",
    "    batch_xs, batch_ys = next_batch(BATCH_SIZE)        \n",
    "    if not(i%100):\n",
    "        train_accuracy = accuracy.eval(feed_dict={x:batch_xs,  y_: batch_ys,keep_prob: 1.0})\n",
    "        _idx=np.arange(VALIDATION_SIZE)\n",
    "        np.random.shuffle(_idx)\n",
    "        validation_images =  validation_images[_idx]\n",
    "        validation_labels =  validation_labels[_idx]\n",
    "\n",
    "        validation_accuracy = accuracy.eval(feed_dict={ x: validation_images[0:BATCH_SIZE], \n",
    "                                                        y_: validation_labels[0:BATCH_SIZE], \n",
    "                                                        keep_prob: 1.0})   \n",
    "        \n",
    "        print('training_accuracy / validation_accuracy => %.2f / %.2f for step %d'%(train_accuracy, validation_accuracy, i))\n",
    "        \n",
    "        validation_accuracies.append(validation_accuracy)\n",
    "        train_accuracies.append(train_accuracy)\n",
    "\n",
    "            \n",
    "    # train on batch\n",
    "    sess.run(train_step, feed_dict={x: batch_xs, y_: batch_ys, keep_prob: .5})"
   ]
  },
  {
   "cell_type": "code",
   "execution_count": 77,
   "metadata": {},
   "outputs": [
    {
     "data": {
      "image/png": "[encoded data removed]",
      "text/plain": [
       "<matplotlib.figure.Figure at 0x7fcffd1a2c18>"
      ]
     },
     "metadata": {},
     "output_type": "display_data"
    }
   ],
   "source": [
    "tmp=np.arange(0,1901,100)\n",
    "plt.figure(figsize=(10, 10))\n",
    "plt.plot(tmp, train_accuracies,'-r', label='Training')\n",
    "plt.plot(tmp, validation_accuracies,'-g', label='Validation')\n",
    "plt.legend(loc='lower right', frameon=False)\n",
    "plt.xticks(np.arange(0,2100,200))\n",
    "plt.ylabel('accuracy')\n",
    "plt.xlabel('step')\n",
    "plt.show()"
   ]
  },
  {
   "cell_type": "code",
   "execution_count": 48,
   "metadata": {},
   "outputs": [],
   "source": [
    "test_images = pd.read_csv('./test_x.csv').as_matrix()\n",
    "test_label = pd.read_csv('./test_y.csv').as_matrix()"
   ]
  },
  {
   "cell_type": "code",
   "execution_count": 49,
   "metadata": {},
   "outputs": [
    {
     "name": "stdout",
     "output_type": "stream",
     "text": [
      "Test Accuricy => 0.98 for step 0\n",
      "Test Accuricy => 0.99 for step 1\n",
      "Test Accuricy => 0.86 for step 2\n",
      "Test Accuricy => 0.69 for step 3\n",
      "Test Accuricy => 0.68 for step 4\n",
      "Test Accuricy => 0.89 for step 5\n",
      "Test Accuricy => 0.99 for step 6\n",
      "Test Accuricy => 0.99 for step 7\n",
      "Test Accuricy => 0.99 for step 8\n",
      "Test Accuricy => 0.95 for step 9\n",
      "Test Accuricy => 0.95 for step 10\n",
      "Test Accuricy => 0.95 for step 11\n",
      "Test Accuricy => 0.99 for step 12\n",
      "Test Accuricy => 0.92 for step 13\n",
      "Test Accuricy => 0.91 for step 14\n",
      "Test Accuricy => 0.83 for step 15\n",
      "Test Accuricy => 0.98 for step 16\n",
      "Test Accuricy => 0.98 for step 17\n",
      "Test Accuricy => 0.97 for step 18\n",
      "Test Accuricy => 1.00 for step 19\n",
      "Test Accuricy => 0.97 for step 20\n",
      "Test Accuricy => 0.97 for step 21\n",
      "Test Accuricy => 0.98 for step 22\n",
      "Test Accuricy => 0.97 for step 23\n",
      "Test Accuricy => 0.87 for step 24\n",
      "Test Accuricy => 0.90 for step 25\n"
     ]
    }
   ],
   "source": [
    "\n",
    "# using batches is for more resource efficient\n",
    "predicted_lables = np.zeros(test_images.shape[0])\n",
    "\n",
    "tmp = test_images.shape[0]//BATCH_SIZE\n",
    "test_accuracies=[]\n",
    "for i in range(0,tmp):\n",
    "    predicted_lables[i*BATCH_SIZE : (i+1)*BATCH_SIZE] = predict.eval(feed_dict={x: test_images[i*BATCH_SIZE : (i+1)*BATCH_SIZE], keep_prob: 1.0})\n",
    "    \n",
    "    test_accuracy=accuracy.eval(feed_dict={ x: test_images[i*BATCH_SIZE : (i+1)*BATCH_SIZE], \n",
    "                                                        y_: test_label[i*BATCH_SIZE : (i+1)*BATCH_SIZE], \n",
    "                                                        keep_prob: 1.0})\n",
    "    print('Test Accuricy => %.2f for step %d'%(test_accuracy,i))\n",
    "    test_accuracies.append(test_accuracy)                                                                          \n"
   ]
  },
  {
   "cell_type": "code",
   "execution_count": 50,
   "metadata": {},
   "outputs": [
    {
     "name": "stdout",
     "output_type": "stream",
     "text": [
      "Accuricy => 92.97%\n"
     ]
    }
   ],
   "source": [
    "print('Accuricy => %2.2f%%'%(sum(test_accuracies)/len(test_accuracies)*100))"
   ]
  },
  {
   "cell_type": "code",
   "execution_count": 76,
   "metadata": {},
   "outputs": [
    {
     "data": {
      "text/plain": [
       "<matplotlib.image.AxesImage at 0x7fcffd17dcc0>"
      ]
     },
     "execution_count": 76,
     "metadata": {},
     "output_type": "execute_result"
    },
    {
     "data": {
      "image/png": "[encoded data removed]",
      "text/plain": [
       "<matplotlib.figure.Figure at 0x7fcffd3fbe48>"
      ]
     },
     "metadata": {},
     "output_type": "display_data"
    }
   ],
   "source": [
    "layer1_grid = layer1.eval(feed_dict={x: test_images[600:650], keep_prob: 1.0})\n",
    "plt.figure(figsize=(8,10))\n",
    "plt.axis('off')\n",
    "plt.imshow(layer1_grid[0].T, cmap=cm.seismic )"
   ]
  },
  {
   "cell_type": "code",
   "execution_count": 75,
   "metadata": {},
   "outputs": [
    {
     "name": "stdout",
     "output_type": "stream",
     "text": [
      "8.0\n",
      "3.0\n",
      "3.0\n",
      "7.0\n",
      "7.0\n",
      "9.0\n",
      "6.0\n",
      "8.0\n",
      "4.0\n",
      "6.0\n"
     ]
    },
    {
     "data": {
      "image/png": "[encoded data removed]",
      "text/plain": [
       "<matplotlib.figure.Figure at 0x7fcffd33f390>"
      ]
     },
     "metadata": {},
     "output_type": "display_data"
    }
   ],
   "source": [
    "fig=plt.figure(figsize=(10, 15))\n",
    "for i in range(1,11):\n",
    "    a=np.random.randint(0,3999)\n",
    "    print(predicted_lables[a])\n",
    "    fig.add_subplot(4,5, i)\n",
    "    plt.imshow((test_images[a].reshape(28,28)).T)"
   ]
  },
  {
   "cell_type": "code",
   "execution_count": 78,
   "metadata": {},
   "outputs": [],
   "source": [
    "sess.close()"
   ]
  }
 ],
 "metadata": {
  "kernelspec": {
   "display_name": "Python 3",
   "language": "python",
   "name": "python3"
  },
  "language_info": {
   "codemirror_mode": {
    "name": "ipython",
    "version": 3
   },
   "file_extension": ".py",
   "mimetype": "text/x-python",
   "name": "python",
   "nbconvert_exporter": "python",
   "pygments_lexer": "ipython3",
   "version": "3.5.4"
  }
 },
 "nbformat": 4,
 "nbformat_minor": 2
}
